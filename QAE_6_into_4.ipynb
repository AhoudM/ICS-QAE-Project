{
 "cells": [
  {
   "cell_type": "code",
   "execution_count": null,
   "id": "4e75aaa9-4cff-4b47-8a55-5d3cf46ea86f",
   "metadata": {},
   "outputs": [],
   "source": [
    "# pip install tensorflow"
   ]
  },
  {
   "cell_type": "code",
   "execution_count": null,
   "id": "483ee8a1-9182-45d4-b5a9-6ff9f721fc50",
   "metadata": {},
   "outputs": [],
   "source": [
    "import json\n",
    "import time\n",
    "import warnings\n",
    "import cmath\n",
    "import tensorflow as tf\n",
    "import matplotlib.pyplot as plt\n",
    "import numpy as np\n",
    "from IPython.display import clear_output\n",
    "from qiskit import ClassicalRegister, QuantumRegister\n",
    "from qiskit import QuantumCircuit\n",
    "from qiskit.algorithms.optimizers import COBYLA\n",
    "from qiskit.circuit.library import RealAmplitudes\n",
    "from qiskit.quantum_info import Statevector\n",
    "from qiskit.utils import algorithm_globals\n",
    "\n",
    "from qiskit_machine_learning.circuit.library import RawFeatureVector\n",
    "from qiskit_machine_learning.neural_networks import SamplerQNN\n",
    "\n",
    "algorithm_globals.random_seed = 42"
   ]
  },
  {
   "cell_type": "code",
   "execution_count": null,
   "id": "973b0a55-7659-4b03-a66d-c2f045430636",
   "metadata": {},
   "outputs": [],
   "source": [
    "def ansatz(num_qubits):\n",
    "    return RealAmplitudes(num_qubits, reps=5)"
   ]
  },
  {
   "cell_type": "code",
   "execution_count": null,
   "id": "e007c52d-b58a-4a94-9fa8-5839a6a52b20",
   "metadata": {},
   "outputs": [],
   "source": [
    "def auto_encoder_circuit(num_latent, num_trash):\n",
    "    qr = QuantumRegister(num_latent + 2 * num_trash + 1, \"q\")\n",
    "    cr = ClassicalRegister(1, \"c\")\n",
    "    circuit = QuantumCircuit(qr, cr)\n",
    "    circuit.compose(ansatz(num_latent + num_trash), range(0, num_latent + num_trash), inplace=True)\n",
    "    circuit.barrier()\n",
    "    auxiliary_qubit = num_latent + 2 * num_trash\n",
    "    # swap test\n",
    "    circuit.h(auxiliary_qubit)\n",
    "    for i in range(num_trash):\n",
    "        circuit.cswap(auxiliary_qubit, num_latent + i, num_latent + num_trash + i)\n",
    "\n",
    "    circuit.h(auxiliary_qubit)\n",
    "    circuit.measure(auxiliary_qubit, cr[0])\n",
    "    return circuit"
   ]
  },
  {
   "cell_type": "code",
   "execution_count": null,
   "id": "fed233e8-bfba-431c-9b79-fe6a68f1ed33",
   "metadata": {},
   "outputs": [],
   "source": [
    "# data preprocessing ..."
   ]
  },
  {
   "cell_type": "code",
   "execution_count": null,
   "id": "06bafbf8-6fd5-4789-9baa-3272b8ea2ba1",
   "metadata": {},
   "outputs": [],
   "source": [
    "#Loading the MNIST set divided by a train set and a test set\n",
    "(x_train, y_train), (x_test, y_test) = tf.keras.datasets.mnist.load_data()\n",
    "\n",
    "# Rescale the images from [0,255] to the [0.0,1.0] range.\n",
    "x_train, x_test = x_train[..., np.newaxis]/255.0, x_test[..., np.newaxis]/255.0\n",
    "\n",
    "#Showing the length of the train and test sets\n",
    "print(\"Number of images in the training set:\", len(x_train))\n",
    "print(\"Number of images in the test set:\", len(x_test))\n",
    "\n",
    "#Function to filter the 0 and 1 labels of the MNIST set\n",
    "'''\n",
    "Input = x_label and y_label sets\n",
    "Output = x_label and y_label sets filtered\n",
    "'''\n",
    "def filter_01(x, y):\n",
    "    keep = (y == 0) | (y == 1)\n",
    "    x, y = x[keep], y[keep]\n",
    "    return x,y\n",
    "\n",
    "x_train, y_train = filter_01(x_train, y_train) #Filter the train set\n",
    "x_test, y_test = filter_01(x_test, y_test) #Filter the test set\n",
    "\n",
    "#Showing the length of the train and test sets after filtering the data\n",
    "print(\"Number of images in the training set:\", len(x_train))\n",
    "print(\"Number of images in the test set:\", len(x_test))"
   ]
  },
  {
   "cell_type": "code",
   "execution_count": null,
   "id": "b345257d-bfbc-4226-8b75-5da24b84c4c6",
   "metadata": {},
   "outputs": [],
   "source": [
    "#resizing the image from 28x28 to 8x8 by the nearest method\n",
    "x_train_small = tf.image.resize(x_train, (8,8), method='nearest', preserve_aspect_ratio=True).numpy()\n",
    "x_test_small = tf.image.resize(x_test, (8,8), method='nearest', preserve_aspect_ratio=True).numpy()\n",
    "\n",
    "#Plotting the first element of the train set after the resizing\n",
    "plt.imshow(x_train_small[0,:,:,0], vmin=0, vmax=1)\n",
    "plt.colorbar()"
   ]
  },
  {
   "cell_type": "code",
   "execution_count": null,
   "id": "7d029dd2-3c7e-4867-a4d7-21a79f42bf90",
   "metadata": {},
   "outputs": [],
   "source": [
    "#Reshaping the train and test test to a 64x1 matriz\n",
    "x_train = x_train_small.reshape(len(x_train_small), 64)\n",
    "x_test = x_test_small.reshape(len(x_test_small), 64)"
   ]
  },
  {
   "cell_type": "code",
   "execution_count": null,
   "id": "edac8576-777e-4a84-a78f-9fce7062da6a",
   "metadata": {},
   "outputs": [],
   "source": [
    "#Deleting no valuable information for the training set\n",
    "k = 0 \n",
    "\n",
    "while k < len(x_train):\n",
    "    a = x_train[k].copy() #make a copy of the actual element\n",
    "    #Verfify if it has some valuable data\n",
    "    if np.sum(a) == 0.: \n",
    "        #If not has valuable data\n",
    "        print(k,x_train[k]) \n",
    "        x_train = np.delete(x_train, k, axis=0) #Delete the actual element from the x_label\n",
    "        y_train = np.delete(y_train, k, axis=0) #Delete the actual element from the y_label\n",
    "        k -= 1 #Take back one value of the counter to match the new set length\n",
    "    k+=1"
   ]
  },
  {
   "cell_type": "code",
   "execution_count": null,
   "id": "04a8ec74-a911-4412-af8a-61ccab5c7fe3",
   "metadata": {},
   "outputs": [],
   "source": [
    "#Deleting no valuable information for the test set\n",
    "k = 0\n",
    "\n",
    "while k < len(x_test): #Deleting no valuable information for the training set\n",
    "    a = x_test[k].copy()\n",
    "    #Verfify if it has some valuable data\n",
    "    if np.sum(a) == 0.:\n",
    "        #If not has valuable data\n",
    "        print(k,x_test[k])\n",
    "        x_test = np.delete(x_test, k, axis=0) #Delete the actual element from the x_label\n",
    "        y_test = np.delete(y_test, k, axis=0) #Delete the actual element from the y_label\n",
    "        k -= 1 #Take back one value of the counter to match the new set length\n",
    "    k+=1"
   ]
  },
  {
   "cell_type": "code",
   "execution_count": null,
   "id": "bb86628f-b305-4472-8e3b-27a63cf6c74f",
   "metadata": {},
   "outputs": [],
   "source": [
    "#Funtion to normalize the data of an array\n",
    "'''\n",
    "Input = Array with n values\n",
    "Output = Array with normalized valued\n",
    "'''\n",
    "def Normalize(row):\n",
    "    #We calculate the squareroot of the sum of the square values of the row\n",
    "    suma = np.sqrt(np.sum(row**2)) \n",
    "    if suma == 0.:\n",
    "        #If the sum is zero we return a 0\n",
    "        return 0.0\n",
    "    #Else we divide each value between the sum value above\n",
    "    row = row/suma\n",
    "    return row \n",
    "\n",
    "#Normalize the training set data\n",
    "for i in range(len(x_train)):\n",
    "    x_train[i] = Normalize(x_train[i])\n",
    "\n",
    "#Normalize the test set data\n",
    "for i in range(len(x_test)):\n",
    "    x_test[i] = Normalize(x_test[i])\n",
    "    \n",
    "#Showing the state sum of the training set    \n",
    "print(\"The sum of the states from the training set 0\",np.sum(x_train[0]**2))"
   ]
  },
  {
   "cell_type": "code",
   "execution_count": null,
   "id": "ca0dd49e-1c6b-4c84-947a-04141f042af4",
   "metadata": {},
   "outputs": [],
   "source": [
    "train_images = x_train\n",
    "train_labels = y_train\n",
    "test_images = x_test\n",
    "test_labels = y_test"
   ]
  },
  {
   "cell_type": "code",
   "execution_count": null,
   "id": "c9420986-769e-4a64-a323-5c00951c0546",
   "metadata": {},
   "outputs": [],
   "source": [
    "# end of data preprocessing ..."
   ]
  },
  {
   "cell_type": "code",
   "execution_count": null,
   "id": "ca1b17eb-372f-4c46-b41d-2f4b2e14aef9",
   "metadata": {},
   "outputs": [],
   "source": [
    "num_latent = 4\n",
    "num_trash = 2\n",
    "\n",
    "fm = RawFeatureVector(2 ** (num_latent + num_trash))\n",
    "\n",
    "ae = auto_encoder_circuit(num_latent, num_trash)\n",
    "\n",
    "qc = QuantumCircuit(num_latent + 2 * num_trash + 1, 1)\n",
    "qc = qc.compose(fm, range(num_latent + num_trash))\n",
    "qc = qc.compose(ae)\n",
    "\n",
    "qc.draw(\"mpl\")"
   ]
  },
  {
   "cell_type": "code",
   "execution_count": null,
   "id": "493ba79a-f00a-41cf-ad8d-c312851ec798",
   "metadata": {},
   "outputs": [],
   "source": [
    "def identity_interpret(x):\n",
    "    return x\n",
    "\n",
    "\n",
    "qnn = SamplerQNN(\n",
    "    circuit=qc,\n",
    "    input_params=fm.parameters,\n",
    "    weight_params=ae.parameters,\n",
    "    interpret=identity_interpret,\n",
    "    output_shape=2,\n",
    ")"
   ]
  },
  {
   "cell_type": "code",
   "execution_count": null,
   "id": "577656db-cf19-48c4-b796-b55235c3a84b",
   "metadata": {},
   "outputs": [],
   "source": [
    "def cost_func_digits(params_values):\n",
    "    probabilities = qnn.forward(train_images, params_values)\n",
    "    cost = np.sum(probabilities[:, 1]) / train_images.shape[0]\n",
    "\n",
    "    # plotting part\n",
    "    clear_output(wait=True)\n",
    "    objective_func_vals.append(cost)\n",
    "    plt.title(\"Objective function value against iteration\")\n",
    "    plt.xlabel(\"Iteration\")\n",
    "    plt.ylabel(\"Objective function value\")\n",
    "    plt.plot(range(len(objective_func_vals)), objective_func_vals)\n",
    "    plt.show()\n",
    "\n",
    "    return cost"
   ]
  },
  {
   "cell_type": "code",
   "execution_count": null,
   "id": "65c6b904-e0ce-40da-9053-c65baa6a241f",
   "metadata": {},
   "outputs": [],
   "source": [
    "# note: this cell did not run!\n",
    "opt = COBYLA(maxiter=150)\n",
    "initial_point = algorithm_globals.random.random(ae.num_parameters)\n",
    "\n",
    "objective_func_vals = []\n",
    "# make the plot nicer\n",
    "plt.rcParams[\"figure.figsize\"] = (12, 6)\n",
    "\n",
    "start = time.time()\n",
    "opt_result = opt.minimize(fun=cost_func_digits, x0=initial_point)\n",
    "elapsed = time.time() - start\n",
    "print(f\"Fit in {elapsed:0.2f} seconds\")"
   ]
  },
  {
   "cell_type": "code",
   "execution_count": null,
   "id": "0fce4dfb-660b-45ef-a351-d457f82e2604",
   "metadata": {},
   "outputs": [],
   "source": [
    "# Test\n",
    "test_qc = QuantumCircuit(num_latent + num_trash)\n",
    "test_qc = test_qc.compose(fm)\n",
    "ansatz_qc = ansatz(num_latent + num_trash)\n",
    "test_qc = test_qc.compose(ansatz_qc)\n",
    "test_qc.barrier()\n",
    "test_qc.reset(5)\n",
    "test_qc.reset(4)\n",
    "test_qc.reset(3)\n",
    "test_qc.barrier()\n",
    "test_qc = test_qc.compose(ansatz_qc.inverse())\n",
    "test_qc.draw(\"mpl\")"
   ]
  },
  {
   "cell_type": "code",
   "execution_count": null,
   "id": "9fe46f91-4c44-49cc-9ffc-230f7a01c1ca",
   "metadata": {},
   "outputs": [],
   "source": [
    "for image, label in zip(test_images, test_labels):\n",
    "    original_qc = fm.assign_parameters(image)\n",
    "    original_sv = Statevector(original_qc).data\n",
    "    original_sv = np.reshape(np.abs(original_sv) ** 2, (8, 8))\n",
    "\n",
    "    param_values = np.concatenate((image, opt_result.x))\n",
    "    output_qc = test_qc.assign_parameters(param_values)\n",
    "    output_sv = Statevector(output_qc).data\n",
    "    output_sv = np.reshape(np.abs(output_sv) ** 2, (8, 8))\n",
    "\n",
    "    fig, (ax1, ax2) = plt.subplots(1, 2)\n",
    "    ax1.imshow(original_sv)\n",
    "    ax1.set_title(\"Input Data\")\n",
    "    ax2.imshow(output_sv)\n",
    "    ax2.set_title(\"Output Data\")\n",
    "    plt.show()"
   ]
  }
 ],
 "metadata": {
  "kernelspec": {
   "display_name": "Python 3 (ipykernel)",
   "language": "python",
   "name": "python3"
  },
  "language_info": {
   "codemirror_mode": {
    "name": "ipython",
    "version": 3
   },
   "file_extension": ".py",
   "mimetype": "text/x-python",
   "name": "python",
   "nbconvert_exporter": "python",
   "pygments_lexer": "ipython3",
   "version": "3.8.13"
  },
  "widgets": {
   "application/vnd.jupyter.widget-state+json": {
    "state": {},
    "version_major": 2,
    "version_minor": 0
   }
  }
 },
 "nbformat": 4,
 "nbformat_minor": 5
}
